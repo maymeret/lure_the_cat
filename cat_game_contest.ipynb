{
 "cells": [
  {
   "cell_type": "code",
   "execution_count": 1,
   "id": "0cd724c9-83db-4bfb-a265-f79432dc970c",
   "metadata": {
    "tags": []
   },
   "outputs": [],
   "source": [
    "import numpy as np\n",
    "import matplotlib.pyplot as plt\n",
    "plt.rcParams['font.size'] = 15\n",
    "import xarray as xr\n",
    "import random\n",
    "import time\n",
    "from IPython.display import display, clear_output"
   ]
  },
  {
   "cell_type": "markdown",
   "id": "a022d960-fdfd-47ec-a716-9be97c22f4a3",
   "metadata": {
    "tags": []
   },
   "source": [
    "# LURE THE CATS - Contest Version\n",
    "\n",
    "\n",
    "\n",
    "\n",
    "Jason Müller (muellerj@tropos.de)\n",
    "\n",
    "May 9, 2024\n",
    "\n",
    "StuMeTa 2024 in Leipzig\n",
    "\n",
    "---\n",
    "\n",
    "## How to play\n",
    "\n",
    "### The scenario\n",
    "* All teams are all sitting in an empty room with one door \n",
    "* Each team gets a specific amount of treats\n",
    "* A known amount of  very cute cats are released into the room one by one\n",
    "* ***The cats are always hungry ans will go to the team that offers them the most treats***\n",
    "* ***The teams are in desperate need of some cat-cuddeling and want to lure in the most cats***\n",
    "* A team cannot place more treats than it currently has\n",
    "\n",
    "### Aim of the game \n",
    "***Pet more cats than all other teams***\n",
    "\n",
    "### Gameplay\n",
    "1. Before a cat enters the room, each team simultaneously places a specific number of treats as a bet\n",
    "2. The cat enters the room and will join the team with the largest amount of treats \n",
    "3. If there is a tie, the cat will decide among the winners\n",
    "4. All placed treats of all teams will be tossed out\n",
    "5. The teams place a new number of treats for the next cat\n",
    "6. Repeat\n",
    "\n",
    "\n",
    "### Some hints \n",
    "* You loose every treat you bet wether you win this round or not\n",
    "* You don't have to bet each round if you don't want to \n",
    "* In an ideal world you would only slightly outbid the second highest bid\n",
    "* You can track the other teams budgets \n",
    "* You can track the other teams bidding behaviour\n",
    "* Treats that are unused after the last round are worth nothing\n",
    "\n",
    "\n",
    "### Important note\n",
    "* ***This is not a game of luck*** ... There are stronger and less strong solutions to this problem \n",
    "* ***There is no perfect stategy*** ... even the strongest algorythm can be countered (I think)\n",
    "* ***Be creative*** \n",
    "* ***Have fun***\n",
    "\n",
    "\n",
    "### Disclaimer\n",
    "* This program could have been written in a much nicer way e.g using more complex objects. Please don't take this as an example of very well written code. "
   ]
  },
  {
   "cell_type": "markdown",
   "id": "249e6f96-fd9e-465c-951e-7f98bf593cc7",
   "metadata": {
    "tags": []
   },
   "source": [
    "## The Players Algorythms\n",
    "* ### Has to be written as a python-function\n",
    "\n",
    "**AVAILABLE INPUT VARIABLES**\n",
    "* ```total_rounds```\n",
    "    * Integer, static\n",
    "    * total number of rounds\n",
    "    \n",
    "* ```total_budget```\n",
    "    * Integer, static\n",
    "    * total budget at the begin of the game\n",
    "\n",
    "* ```current_round```\n",
    "    * Integer, dynamic\n",
    "    * the current round number\n",
    "    \n",
    "* ```my_budget```\n",
    "    * Integer, dynamic\n",
    "    * your current budget\n",
    "    \n",
    "* ```my_wins```    \n",
    "    * 1D List, dynamic\n",
    "    * number of rounds won by you\n",
    "    \n",
    "* ```my_bids```    \n",
    "    * 1D List, dynamic\n",
    "    * your bids so far\n",
    "    \n",
    "* ```last_winning_bid```\n",
    "    * Integer, dynamic\n",
    "    * The winning bid of last round\n",
    "    \n",
    "* ```budgets ```   \n",
    "    * 1D List, dynamic: \n",
    "    * current budgets of all teams\n",
    "    \n",
    "* ```win_log```\n",
    "    * 2D List ```(nplayers, nrounds)```, dynamic\n",
    "    * A List that tracks all wins by each of the players. On line is added after each round\n",
    "\n",
    "* ```bid_log```\n",
    "    * 2D List ```(nplayers, nrounds)```, dynamic\n",
    "    * A List that tracks all bids by each of the players. On line is added after each round "
   ]
  },
  {
   "cell_type": "markdown",
   "id": "f6ad5363-b65b-49b7-891f-7261df4312d8",
   "metadata": {},
   "source": [
    "**OUTPUT VARIABLES**\n",
    "\n",
    "* Only ONE output variable!\n",
    "* Float that contains your bid for the current round\n",
    "\n",
    "**RULES**\n",
    "\n",
    "* Allowed Modules: \n",
    "    * ```numpy as np```\n",
    "    * ```xarray as xr```\n",
    "    * ```random```\n",
    "    * if further modules are needed please talk to me first\n",
    "    \n",
    "    \n",
    "* Please don't try to break the game (Please!)\n",
    "    * No algorythms with excessive runtime or memory consumption\n",
    "    * No nonsensical bets e.g trying to pass negative beds to gain money, ...\n",
    "    * **Please test your functions**\n"
   ]
  },
  {
   "cell_type": "markdown",
   "id": "b3b74056",
   "metadata": {
    "tags": []
   },
   "source": [
    "## Team Algorythms"
   ]
  },
  {
   "cell_type": "code",
   "execution_count": 2,
   "id": "3ded0392",
   "metadata": {},
   "outputs": [],
   "source": [
    "def player_a(total_rounds,total_budget, current_round, my_budget, my_wins, my_bids, last_winning_bid, budgets, win_log, bid_log):\n",
    "    my_bid = 1\n",
    "    \n",
    "    return(my_bid)"
   ]
  },
  {
   "cell_type": "code",
   "execution_count": 3,
   "id": "051437f8",
   "metadata": {},
   "outputs": [],
   "source": [
    "def player_b(total_rounds,total_budget, current_round, my_budget, my_wins, my_bids, last_winning_bid, budgets, win_log, bid_log): \n",
    "    \n",
    "    my_bid = 1\n",
    "    \n",
    "    return(my_bid)"
   ]
  },
  {
   "cell_type": "code",
   "execution_count": 4,
   "id": "8e7a5530",
   "metadata": {},
   "outputs": [],
   "source": [
    "def player_c(total_rounds,total_budget ,current_round, my_budget, my_wins, my_bids, last_winning_bid, budgets, win_log, bid_log):\n",
    "        \n",
    "    my_bid = 1\n",
    "    \n",
    "    return(my_bid)"
   ]
  },
  {
   "cell_type": "code",
   "execution_count": 5,
   "id": "36ceea65",
   "metadata": {},
   "outputs": [],
   "source": [
    "def player_d(total_rounds,total_budget ,current_round, my_budget, my_wins, my_bids, last_winning_bid, budgets, win_log, bid_log):\n",
    "        \n",
    "    my_bid = 1\n",
    "    \n",
    "    return(my_bid)"
   ]
  },
  {
   "cell_type": "markdown",
   "id": "6287ffb2",
   "metadata": {
    "tags": []
   },
   "source": [
    "## Game Settings"
   ]
  },
  {
   "cell_type": "code",
   "execution_count": 6,
   "id": "9bebd018-d14d-4e36-93c4-6a8c26d1ef1f",
   "metadata": {
    "tags": []
   },
   "outputs": [],
   "source": [
    "# Game settings\n",
    "total_rounds = 100\n",
    "total_budget = 1000"
   ]
  },
  {
   "cell_type": "code",
   "execution_count": 7,
   "id": "78262f22-c3a1-46d3-9308-94fc4e461105",
   "metadata": {
    "tags": []
   },
   "outputs": [],
   "source": [
    "players = {\"Anna\": player_a,\n",
    "           \"Berta\": player_b,\n",
    "           \"Christian\": player_c,\n",
    "           \"Daniel_Dusentrieb\": player_d\n",
    "          }"
   ]
  },
  {
   "cell_type": "markdown",
   "id": "d15e9322-859c-44aa-b808-b2e50896fdfd",
   "metadata": {
    "tags": []
   },
   "source": [
    "## Functions that actually run the game"
   ]
  },
  {
   "cell_type": "code",
   "execution_count": 8,
   "id": "c93a53c4-d502-49cb-b0ab-00c612816f6a",
   "metadata": {
    "tags": []
   },
   "outputs": [],
   "source": [
    "def find_winner(bids, wins, budgets):\n",
    "    \n",
    "    \"\"\"\n",
    "    Determine the winner and update budget\n",
    "\n",
    "    Parameters\n",
    "    ----------\n",
    "        bids : Dictionary, bids for current round\n",
    "\n",
    "        wins : Dictionary, wins so far \n",
    "\n",
    "        budgets : Dictionary, wins so far\n",
    "\n",
    "    Returns\n",
    "    -------\n",
    "        wins : Dictionary, updated wins \n",
    "\n",
    "        max_bid : float, maximum bid in current round\n",
    "    \"\"\"\n",
    "    \n",
    "    players = list(bids.keys())\n",
    "    \n",
    "    for player in player_lst: \n",
    "        if budgets.get(player) < bids.get(player):\n",
    "            bids[player] = 0\n",
    "        budgets[player] =   budgets[player] - bids[player] # Everyone looses budget\n",
    "        \n",
    "    max_bid = max(bids.values())\n",
    "    winners = [player for player, bid in bids.items() if bid == max_bid]\n",
    "\n",
    "    if len(winners) == 1:\n",
    "        winner = winners[0]\n",
    "    else:\n",
    "        winner = random.choice(winners)\n",
    "        \n",
    "        \n",
    "    wins[winner] = wins[winner]+1\n",
    "    #budgets[winner] =   budgets[winner] - bids[winner]     # Only winner looses budget\n",
    "    return(wins, max_bid)"
   ]
  },
  {
   "cell_type": "code",
   "execution_count": 9,
   "id": "61de18c3-0bf0-4fb2-b23c-fdb7c516e8d6",
   "metadata": {
    "tags": []
   },
   "outputs": [],
   "source": [
    "\n",
    "def log_data(i, bid_log, win_log, bids, wins):\n",
    "    \"\"\"\n",
    "    Take the wins and bids of the current round and add them to the log.\n",
    "    \n",
    "    Parameters\n",
    "    ----------\n",
    "        i : integer, current round number\n",
    "        \n",
    "        bid_log : Dictionary {string : numpyarray}, players and their bids for every round so far\n",
    "        \n",
    "        win_log : Dictionary {string : numpyarray}, players and their win-count for every round so far\n",
    "        \n",
    "        bids : Dictionary {string : float}, players and their current bid\n",
    "        \n",
    "        wins : Dictionary {string : integer}, players and their current win-count\n",
    "        \n",
    "     Returns\n",
    "     -------\n",
    "        bid_log : Dictionary {string : numpyarray}, players and their updated bids for every round\n",
    "        \n",
    "        win_log : Dictionary {string : numpyarray}, players and their updated win-count for every round\n",
    "    \"\"\"\n",
    "    \n",
    "    players = list(bids.keys())\n",
    "    for player in players:    \n",
    "        bid_log[player][i] = bids[player]\n",
    "        win_log[player][i] = wins[player]  \n",
    "    return(bid_log, win_log)"
   ]
  },
  {
   "cell_type": "code",
   "execution_count": 10,
   "id": "a81d9c44-cd13-40d8-9899-6ba3b7ebbdcc",
   "metadata": {
    "tags": []
   },
   "outputs": [],
   "source": [
    "def plot_standings(wins):\n",
    "    \n",
    "    \"\"\"\n",
    "    Produce a bar-plot with the current standings\n",
    "\n",
    "    Parameters\n",
    "    ----------\n",
    "        wins : Dictionary {string : integer}, players and their current win-count\n",
    "\n",
    "    \"\"\"\n",
    "    \n",
    "    \n",
    "    clear_output(wait = True)\n",
    "    #plt.pause(0.001)\n",
    "    cmap = plt.cm.viridis\n",
    "    bar_colors = [cmap(x) for x in np.linspace(0, 1, len(wins))]\n",
    "    ax.set_title(\"Round \" + str(i+1) + \" out of \" + str(total_rounds))\n",
    "    p =ax.bar(list(wins.keys()), list(wins.values()),  color=bar_colors)\n",
    "\n",
    "    ax.set_ylabel('Wins')\n",
    "    display(fig)    \n",
    "    \n",
    "\n",
    "    plt.show()"
   ]
  },
  {
   "cell_type": "code",
   "execution_count": 11,
   "id": "f3b87b37-056e-4ad4-9b15-8402238cc1af",
   "metadata": {
    "tags": []
   },
   "outputs": [],
   "source": [
    "\n",
    "def save_data(bid_log, win_log):\n",
    "    \n",
    "    \"\"\"\n",
    "    Write the logs into an net-cdf file\n",
    "\n",
    "    Parameters\n",
    "    ----------\n",
    "        bid_log : Dictionary {string : numpyarray}, players and their bids for every round\n",
    "\n",
    "        win_log : Dictionary {string : numpyarray}, players and their win-count for every round\n",
    "\n",
    "    Returns\n",
    "    -------\n",
    "    combined_dataset : xarray dataset       \n",
    "                                        dims:(Players, Rounds); \n",
    "                                        variables: (wins, bids); \n",
    "                                        attributes: (total_budget, total_rounds)\n",
    "\n",
    "    \"\"\"\n",
    "\n",
    "    \n",
    "    renamed_win_log = {}\n",
    "    renamed_bid_log = {}\n",
    "    players = list(bid_log.keys())\n",
    "    \n",
    "    for key, value in win_log.items():\n",
    "        win_key = f\"{key}_points\"\n",
    "        renamed_win_log[win_key] = value\n",
    "        \n",
    "    for key, value in bid_log.items():\n",
    "        bid_key = f\"{key}_bids\"\n",
    "        renamed_bid_log[bid_key] = value\n",
    "    \n",
    "    # Build Xarray Dataset from Dictionaries (there must also be a better way than this:)\n",
    "    wins_dataset = xr.Dataset({key: (['Rounds'], value) for key, value in renamed_win_log.items()})\n",
    "    variables_to_concat = list(wins_dataset.data_vars.values())\n",
    "    wins_dataset[\"wins\"] = xr.concat(variables_to_concat, dim=players)\n",
    "    wins_dataset = wins_dataset[\"wins\"].rename({'concat_dim': 'Players'})\n",
    "    \n",
    "    bids_dataset = xr.Dataset({key: (['Rounds'], value) for key, value in renamed_bid_log.items()})\n",
    "    variables_to_concat = list(bids_dataset.data_vars.values())\n",
    "    bids_dataset[\"bids\"] = xr.concat(variables_to_concat, dim=players)\n",
    "    bids_dataset = bids_dataset[\"bids\"].rename({'concat_dim': 'Players'})\n",
    "    \n",
    "    \n",
    "    combined_dataset = xr.merge([wins_dataset, bids_dataset])\n",
    "    combined_dataset.attrs['Total_Budget'] = total_budget\n",
    "    combined_dataset.attrs['Total_Rounds'] = total_rounds\n",
    "    combined_dataset = combined_dataset.assign_coords({\"Rounds\" :combined_dataset.Rounds })\n",
    "    \n",
    "    \n",
    "    output_filename = \"budget\"+str(total_budget)+ \"_rounds\"+str(total_rounds)+\".nc\"\n",
    "    combined_dataset.to_netcdf(output_filename)\n",
    "    \n",
    "    return(combined_dataset)"
   ]
  },
  {
   "cell_type": "markdown",
   "id": "23b597c8-ba04-4de3-9e28-421831ff6660",
   "metadata": {
    "tags": []
   },
   "source": [
    "## Start actual game"
   ]
  },
  {
   "cell_type": "code",
   "execution_count": 12,
   "id": "0dac0552-afa9-4921-9a67-2d050a00b4a7",
   "metadata": {
    "tags": []
   },
   "outputs": [],
   "source": [
    "# Initializing Game\n",
    "player_lst = list(players.keys())\n",
    "current_round = 0\n",
    "last_winning_bid = 0\n",
    "\n",
    "empty_log = np.zeros(total_rounds)\n",
    "\n",
    "wins = {string: 0 for string in player_lst}\n",
    "budgets = {string: total_budget for string in player_lst}\n",
    "bids = {string: 0 for string in player_lst}\n",
    "\n",
    "win_log = {string: np.zeros(total_rounds) for string in player_lst}\n",
    "bid_log = {string: np.zeros(total_rounds) for string in player_lst}\n"
   ]
  },
  {
   "cell_type": "code",
   "execution_count": 13,
   "id": "5c464057-a49d-4056-a269-0534f832bdbc",
   "metadata": {
    "tags": []
   },
   "outputs": [
    {
     "data": {
      "image/png": "[encoded data removed]",
      "text/plain": [
       "<Figure size 720x720 with 1 Axes>"
      ]
     },
     "metadata": {},
     "output_type": "display_data"
    },
    {
     "name": "stdout",
     "output_type": "stream",
     "text": [
      "{'Anna': 31, 'Berta': 22, 'Christian': 31, 'Daniel_Dusentrieb': 16}\n"
     ]
    }
   ],
   "source": [
    "fig = plt.figure(figsize =(10,10))\n",
    "ax = fig.add_subplot() \n",
    "\n",
    "for i in np.arange(total_rounds):\n",
    "    \n",
    "    for key, value in players.items():\n",
    "           bids[key] = abs(players[key](total_rounds, total_budget, i,budgets.get(key), list(win_log.get(key)), list(bid_log.get(key)),last_winning_bid, list(budgets.values()),list(win_log.values()), list(bid_log.values())))\n",
    "    \n",
    "    \n",
    "    wins, last_winning_bid = find_winner(bids, wins, budgets) \n",
    "    bid_log, win_log = log_data(i, bid_log, win_log ,bids, wins)\n",
    "\n",
    "    plot_standings(wins)\n",
    "ds = save_data(bid_log, win_log)   \n",
    "print(wins)"
   ]
  }
 ],
 "metadata": {
  "kernelspec": {
   "display_name": "Python 3 (ipykernel)",
   "language": "python",
   "name": "python3"
  },
  "language_info": {
   "codemirror_mode": {
    "name": "ipython",
    "version": 3
   },
   "file_extension": ".py",
   "mimetype": "text/x-python",
   "name": "python",
   "nbconvert_exporter": "python",
   "pygments_lexer": "ipython3",
   "version": "3.9.7"
  }
 },
 "nbformat": 4,
 "nbformat_minor": 5
}
