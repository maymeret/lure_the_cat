{
 "cells": [
  {
   "cell_type": "code",
   "execution_count": 1,
   "id": "0cd724c9-83db-4bfb-a265-f79432dc970c",
   "metadata": {
    "tags": []
   },
   "outputs": [],
   "source": [
    "import numpy as np\n",
    "import matplotlib.pyplot as plt\n",
    "plt.rcParams['font.size'] = 15\n",
    "import xarray as xr\n",
    "import random\n",
    "import time\n",
    "from IPython.display import display, clear_output"
   ]
  },
  {
   "cell_type": "markdown",
   "id": "a022d960-fdfd-47ec-a716-9be97c22f4a3",
   "metadata": {
    "tags": []
   },
   "source": [
    "# LURE THE CATS - Contest Version\n",
    "\n",
    "\n",
    "\n",
    "\n",
    "Jason Müller (muellerj@tropos.de)\n",
    "\n",
    "May 9, 2024\n",
    "\n",
    "StuMeTa 2024 in Leipzig\n",
    "\n",
    "---\n",
    "\n",
    "## How to play\n",
    "\n",
    "### The scenario\n",
    "* All teams are all sitting in an empty room with one door \n",
    "* Each team gets a specific amount of treats\n",
    "* A known amount of  very cute cats are released into the room one by one\n",
    "* ***The cats are always hungry ans will go to the team that offers them the most treats***\n",
    "* ***The teams are in desperate need of some cat-cuddeling and want to lure in the most cats***\n",
    "* A team cannot place more treats than it currently has\n",
    "\n",
    "### Aim of the game \n",
    "***Pet more cats than all other teams***\n",
    "\n",
    "### Gameplay\n",
    "1. Before a cat enters the room, each team simultaneously places a specific number of treats as a bet\n",
    "2. The cat enters the room and will join the team with the largest amount of treats \n",
    "3. If there is a tie, the cat will decide among the winners\n",
    "4. All placed treats of all teams will be tossed out\n",
    "5. The teams place a new number of treats for the next cat\n",
    "6. Repeat\n",
    "\n",
    "\n",
    "### Some hints \n",
    "* You loose every treat you bet wether you win this round or not\n",
    "* You don't have to bet each round if you don't want to \n",
    "* In an ideal world you would only slightly outbid the second highest bid\n",
    "* You can track the other teams budgets \n",
    "* You can track the other teams bidding behaviour\n",
    "* Treats that are unused after the last round are worth nothing\n",
    "\n",
    "\n",
    "### Important note\n",
    "* ***This is not a game of luck*** ... There are stronger and less strong solutions to this problem \n",
    "* ***There is no perfect stategy*** ... even the strongest algorythm can be countered (I think)\n",
    "* ***Be creative*** \n",
    "* ***Have fun***\n",
    "\n",
    "\n",
    "### Disclaimer\n",
    "* This program could have been written in a much nicer way e.g using more complex objects. Please don't take this as an example of very well written code. "
   ]
  },
  {
   "cell_type": "markdown",
   "id": "249e6f96-fd9e-465c-951e-7f98bf593cc7",
   "metadata": {
    "tags": []
   },
   "source": [
    "## The Players Algorythms\n",
    "* ### Has to be written as a python-function\n",
    "\n",
    "**AVAILABLE INPUT VARIABLES**\n",
    "* ```total_rounds```\n",
    "    * Integer, static\n",
    "    * total number of rounds\n",
    "    \n",
    "* ```total_budget```\n",
    "    * Integer, static\n",
    "    * total budget at the begin of the game\n",
    "\n",
    "* ```current_round```\n",
    "    * Integer, dynamic\n",
    "    * the current round number\n",
    "    \n",
    "* ```my_budget```\n",
    "    * Integer, dynamic\n",
    "    * your current budget\n",
    "    \n",
    "* ```my_wins```    \n",
    "    * 1D List, dynamic\n",
    "    * number of rounds won by you\n",
    "    \n",
    "* ```my_bids```    \n",
    "    * 1D List, dynamic\n",
    "    * your bids so far\n",
    "    \n",
    "* ```last_winning_bid```\n",
    "    * Integer, dynamic\n",
    "    * The winning bid of last round\n",
    "    \n",
    "* ```budgets ```   \n",
    "    * 1D List, dynamic: \n",
    "    * current budgets of all teams\n",
    "    \n",
    "* ```win_log```\n",
    "    * 2D List ```(nplayers, nrounds)```, dynamic\n",
    "    * A List that tracks all wins by each of the players. On line is added after each round\n",
    "\n",
    "* ```bid_log```\n",
    "    * 2D List ```(nplayers, nrounds)```, dynamic\n",
    "    * A List that tracks all bids by each of the players. On line is added after each round "
   ]
  },
  {
   "cell_type": "markdown",
   "id": "f6ad5363-b65b-49b7-891f-7261df4312d8",
   "metadata": {},
   "source": [
    "**OUTPUT VARIABLES**\n",
    "\n",
    "* Only ONE output variable!\n",
    "* Float that contains your bid for the current round\n",
    "\n",
    "**RULES**\n",
    "\n",
    "* Allowed Modules: \n",
    "    * ```numpy as np```\n",
    "    * ```xarray as xr```\n",
    "    * ```random```\n",
    "    * if further modules are needed please talk to me first\n",
    "    \n",
    "    \n",
    "* Please don't try to break the game (Please!)\n",
    "    * No algorythms with excessive runtime or memory consumption\n",
    "    * No nonsensical bets e.g trying to pass negative beds to gain money, ...\n",
    "    * **Please test your functions**\n"
   ]
  },
  {
   "cell_type": "markdown",
   "id": "b3b74056",
   "metadata": {
    "tags": []
   },
   "source": [
    "## Team Algorythms"
   ]
  },
  {
   "cell_type": "code",
   "execution_count": 2,
   "id": "3ded0392",
   "metadata": {},
   "outputs": [],
   "source": [
    "def player_a(total_rounds,total_budget, current_round, my_budget, my_wins, my_bids, last_winning_bid, budgets, win_log, bid_log):\n",
    "    delta = total_rounds-current_round\n",
    "    if np.random.randint(0,2) == 1:\n",
    "        my_bid = np.random.randint((my_budget/delta ), my_budget/(delta -.7*delta))\n",
    "    \n",
    "    else:\n",
    "        my_bid = 0\n",
    "\n",
    "    if total_rounds-1 == current_round:\n",
    "        my_bid = my_budget\n",
    "\n",
    "\n",
    "    return(my_bid)"
   ]
  },
  {
   "cell_type": "code",
   "execution_count": 3,
   "id": "051437f8",
   "metadata": {},
   "outputs": [],
   "source": [
    "def player_b(total_rounds,total_budget, current_round, my_budget, my_wins, my_bids, last_winning_bid, budgets, win_log, bid_log): \n",
    "    import numpy as np\n",
    "    from random import randrange\n",
    "    budget_per_round = (total_budget/total_rounds)*2\n",
    "    if current_round in range (total_rounds//4,3*total_rounds//4,1):\n",
    "        my_bid = budget_per_round + randrange(-budget_per_round//10, budget_per_round//10)\n",
    "        if current_round == 3*total_rounds//4:\n",
    "            my_bid = my_budget\n",
    "    else:\n",
    "       my_bid = 0\n",
    "\n",
    "\n",
    "    return(my_bid)"
   ]
  },
  {
   "cell_type": "code",
   "execution_count": 4,
   "id": "8e7a5530",
   "metadata": {},
   "outputs": [],
   "source": [
    "def player_c(total_rounds,total_budget ,current_round, my_budget, my_wins, my_bids, last_winning_bid, budgets, win_log, bid_log):\n",
    "    n_players = len(win_log)\n",
    "    \n",
    "    current_budget_of_all_teams = np.sum(budgets) - my_budget\n",
    "\n",
    "    rounds_left = total_rounds - current_round\n",
    "    if rounds_left == 1:\n",
    "        return my_budget\n",
    "        \n",
    "    estimated_bet_this_round = current_budget_of_all_teams // (rounds_left * (n_players-1))\n",
    "\n",
    "    if current_round % 2 == 0:\n",
    "        my_bid = 2*estimated_bet_this_round\n",
    "    else:\n",
    "        my_bid = 0\n",
    "    \n",
    "    return(my_bid)"
   ]
  },
  {
   "cell_type": "code",
   "execution_count": 5,
   "id": "36ceea65",
   "metadata": {},
   "outputs": [],
   "source": [
    "def player_d(total_rounds,total_budget ,current_round, my_budget, my_wins, my_bids, last_winning_bid, budgets, win_log, bid_log):\n",
    "    remaining_rounds = total_rounds - current_round\n",
    "    average_bid = my_budget / remaining_rounds\n",
    "\n",
    "    my_bid = average_bid\n",
    "\n",
    "    if my_wins[current_round-1] == my_wins[current_round-2]:\n",
    "        my_bid = 0\n",
    "\n",
    "    if last_winning_bid < average_bid :\n",
    "        my_bid = average_bid\n",
    "\n",
    " \n",
    "    return(my_bid)"
   ]
  },
  {
   "cell_type": "code",
   "execution_count": 6,
   "id": "1742b26c-d237-4105-9163-1a2c6eec8e15",
   "metadata": {},
   "outputs": [],
   "source": [
    "def player_e(total_rounds,total_budget ,current_round, my_budget, my_wins, my_bids, last_winning_bid, budgets, win_log, bid_log):   \n",
    "    rounds_left = total_rounds - current_round\n",
    "    mean_bid = my_budget/rounds_left\n",
    "\n",
    "#    print(\"current round \" + str(current_round))\n",
    "    percentage = 90\n",
    "    mean_bid_percentage = mean_bid*percentage/100\n",
    "#    print(mean_bid_percentage)\n",
    "    range = np.round(mean_bid_percentage/2)\n",
    "    range2 = np.round(mean_bid_percentage/1.4)\n",
    "    if range == 0:\n",
    "        range = 1\n",
    "    my_bid = mean_bid + np.random.randint(low=-range2, high=range, size=1)\n",
    "    return(my_bid)"
   ]
  },
  {
   "cell_type": "code",
   "execution_count": 7,
   "id": "c76ca839-e29c-47d6-8cac-591effba2817",
   "metadata": {},
   "outputs": [],
   "source": [
    "def player_f(total_rounds,total_budget ,current_round, my_budget, my_wins, my_bids, last_winning_bid, budgets, win_log, bid_log):   \n",
    "    if(current_round == 0):\n",
    "        my_bid = 0\n",
    "\n",
    "    my_average_bid = my_budget / (total_rounds - current_round)\n",
    "\n",
    "    if(current_round >= total_rounds/3):\n",
    "        if(last_winning_bid < my_average_bid):\n",
    "            my_bid =  my_average_bid\n",
    "        else:\n",
    "            my_bid = 0\n",
    "\n",
    "    if(my_wins[current_round-1] == my_wins[current_round - 2]):\n",
    "        my_bid = last_winning_bid\n",
    "    else:\n",
    "        my_bid = 0\n",
    "\n",
    "\n",
    "    return(my_bid)"
   ]
  },
  {
   "cell_type": "markdown",
   "id": "6287ffb2",
   "metadata": {
    "tags": []
   },
   "source": [
    "## Game Settings"
   ]
  },
  {
   "cell_type": "code",
   "execution_count": 8,
   "id": "9bebd018-d14d-4e36-93c4-6a8c26d1ef1f",
   "metadata": {
    "tags": []
   },
   "outputs": [],
   "source": [
    "# Game settings\n",
    "total_rounds = 50\n",
    "total_budget = 1000"
   ]
  },
  {
   "cell_type": "code",
   "execution_count": 9,
   "id": "78262f22-c3a1-46d3-9308-94fc4e461105",
   "metadata": {
    "tags": []
   },
   "outputs": [],
   "source": [
    "players = {\"Magma\": player_a,\n",
    "           \"Andresas_Hense\": player_b,\n",
    "           \"Der_Katzenfänger\": player_c,\n",
    "           \"Katzen_dingens\": player_d,\n",
    "           'Whiskas': player_e,\n",
    "           'Klimwandel':player_f\n",
    "          }"
   ]
  },
  {
   "cell_type": "markdown",
   "id": "d15e9322-859c-44aa-b808-b2e50896fdfd",
   "metadata": {
    "tags": []
   },
   "source": [
    "## Functions that actually run the game"
   ]
  },
  {
   "cell_type": "code",
   "execution_count": 10,
   "id": "c93a53c4-d502-49cb-b0ab-00c612816f6a",
   "metadata": {
    "tags": []
   },
   "outputs": [],
   "source": [
    "def find_winner(bids, wins, budgets):\n",
    "    \n",
    "    \"\"\"\n",
    "    Determine the winner and update budget\n",
    "\n",
    "    Parameters\n",
    "    ----------\n",
    "        bids : Dictionary, bids for current round\n",
    "\n",
    "        wins : Dictionary, wins so far \n",
    "\n",
    "        budgets : Dictionary, wins so far\n",
    "\n",
    "    Returns\n",
    "    -------\n",
    "        wins : Dictionary, updated wins \n",
    "\n",
    "        max_bid : float, maximum bid in current round\n",
    "    \"\"\"\n",
    "    \n",
    "    players = list(bids.keys())\n",
    "    \n",
    "    for player in player_lst: \n",
    "        if budgets.get(player) < bids.get(player):\n",
    "            bids[player] = 0\n",
    "        budgets[player] =   budgets[player] - bids[player] # Everyone looses budget\n",
    "        \n",
    "    max_bid = max(bids.values())\n",
    "    winners = [player for player, bid in bids.items() if bid == max_bid]\n",
    "\n",
    "    if len(winners) == 1:\n",
    "        winner = winners[0]\n",
    "    else:\n",
    "        winner = random.choice(winners)\n",
    "        \n",
    "        \n",
    "    wins[winner] = wins[winner]+1\n",
    "    #budgets[winner] =   budgets[winner] - bids[winner]     # Only winner looses budget\n",
    "    return(wins, max_bid)"
   ]
  },
  {
   "cell_type": "code",
   "execution_count": 11,
   "id": "61de18c3-0bf0-4fb2-b23c-fdb7c516e8d6",
   "metadata": {
    "tags": []
   },
   "outputs": [],
   "source": [
    "\n",
    "def log_data(i, bid_log, win_log, bids, wins):\n",
    "    \"\"\"\n",
    "    Take the wins and bids of the current round and add them to the log.\n",
    "    \n",
    "    Parameters\n",
    "    ----------\n",
    "        i : integer, current round number\n",
    "        \n",
    "        bid_log : Dictionary {string : numpyarray}, players and their bids for every round so far\n",
    "        \n",
    "        win_log : Dictionary {string : numpyarray}, players and their win-count for every round so far\n",
    "        \n",
    "        bids : Dictionary {string : float}, players and their current bid\n",
    "        \n",
    "        wins : Dictionary {string : integer}, players and their current win-count\n",
    "        \n",
    "     Returns\n",
    "     -------\n",
    "        bid_log : Dictionary {string : numpyarray}, players and their updated bids for every round\n",
    "        \n",
    "        win_log : Dictionary {string : numpyarray}, players and their updated win-count for every round\n",
    "    \"\"\"\n",
    "    \n",
    "    players = list(bids.keys())\n",
    "    for player in players:    \n",
    "        bid_log[player][i] = bids[player]\n",
    "        win_log[player][i] = wins[player]  \n",
    "    return(bid_log, win_log)"
   ]
  },
  {
   "cell_type": "code",
   "execution_count": 12,
   "id": "a81d9c44-cd13-40d8-9899-6ba3b7ebbdcc",
   "metadata": {
    "tags": []
   },
   "outputs": [],
   "source": [
    "def plot_standings(wins):\n",
    "    \n",
    "    \"\"\"\n",
    "    Produce a bar-plot with the current standings\n",
    "\n",
    "    Parameters\n",
    "    ----------\n",
    "        wins : Dictionary {string : integer}, players and their current win-count\n",
    "\n",
    "    \"\"\"\n",
    "    \n",
    "    \n",
    "    clear_output(wait = True)\n",
    "    #plt.pause(0.001)\n",
    "    cmap = plt.cm.viridis\n",
    "    bar_colors = [cmap(x) for x in np.linspace(0, 1, len(wins))]\n",
    "    ax.set_title(\"Round \" + str(i+1) + \" out of \" + str(total_rounds))\n",
    "    p =ax.bar(list(wins.keys()), list(wins.values()),  color=bar_colors)\n",
    "\n",
    "    ax.set_ylabel('Wins')\n",
    "    display(fig)    \n",
    "    \n",
    "\n",
    "    plt.show()"
   ]
  },
  {
   "cell_type": "code",
   "execution_count": 13,
   "id": "f3b87b37-056e-4ad4-9b15-8402238cc1af",
   "metadata": {
    "tags": []
   },
   "outputs": [],
   "source": [
    "\n",
    "def save_data(bid_log, win_log):\n",
    "    \n",
    "    \"\"\"\n",
    "    Write the logs into an net-cdf file\n",
    "\n",
    "    Parameters\n",
    "    ----------\n",
    "        bid_log : Dictionary {string : numpyarray}, players and their bids for every round\n",
    "\n",
    "        win_log : Dictionary {string : numpyarray}, players and their win-count for every round\n",
    "\n",
    "    Returns\n",
    "    -------\n",
    "    combined_dataset : xarray dataset       \n",
    "                                        dims:(Players, Rounds); \n",
    "                                        variables: (wins, bids); \n",
    "                                        attributes: (total_budget, total_rounds)\n",
    "\n",
    "    \"\"\"\n",
    "\n",
    "    \n",
    "    renamed_win_log = {}\n",
    "    renamed_bid_log = {}\n",
    "    players = list(bid_log.keys())\n",
    "    \n",
    "    for key, value in win_log.items():\n",
    "        win_key = f\"{key}_points\"\n",
    "        renamed_win_log[win_key] = value\n",
    "        \n",
    "    for key, value in bid_log.items():\n",
    "        bid_key = f\"{key}_bids\"\n",
    "        renamed_bid_log[bid_key] = value\n",
    "    \n",
    "    # Build Xarray Dataset from Dictionaries (there must also be a better way than this:)\n",
    "    wins_dataset = xr.Dataset({key: (['Rounds'], value) for key, value in renamed_win_log.items()})\n",
    "    variables_to_concat = list(wins_dataset.data_vars.values())\n",
    "    wins_dataset[\"wins\"] = xr.concat(variables_to_concat, dim=players)\n",
    "    wins_dataset = wins_dataset[\"wins\"].rename({'concat_dim': 'Players'})\n",
    "    \n",
    "    bids_dataset = xr.Dataset({key: (['Rounds'], value) for key, value in renamed_bid_log.items()})\n",
    "    variables_to_concat = list(bids_dataset.data_vars.values())\n",
    "    bids_dataset[\"bids\"] = xr.concat(variables_to_concat, dim=players)\n",
    "    bids_dataset = bids_dataset[\"bids\"].rename({'concat_dim': 'Players'})\n",
    "    \n",
    "    \n",
    "    combined_dataset = xr.merge([wins_dataset, bids_dataset])\n",
    "    combined_dataset.attrs['Total_Budget'] = total_budget\n",
    "    combined_dataset.attrs['Total_Rounds'] = total_rounds\n",
    "    combined_dataset = combined_dataset.assign_coords({\"Rounds\" :combined_dataset.Rounds })\n",
    "    \n",
    "    \n",
    "    output_filename = \"budget\"+str(total_budget)+ \"_rounds\"+str(total_rounds)+\".nc\"\n",
    "    combined_dataset.to_netcdf(output_filename)\n",
    "    \n",
    "    return(combined_dataset)"
   ]
  },
  {
   "cell_type": "markdown",
   "id": "23b597c8-ba04-4de3-9e28-421831ff6660",
   "metadata": {
    "tags": []
   },
   "source": [
    "## Start actual game"
   ]
  },
  {
   "cell_type": "code",
   "execution_count": 14,
   "id": "0dac0552-afa9-4921-9a67-2d050a00b4a7",
   "metadata": {
    "tags": []
   },
   "outputs": [],
   "source": [
    "# Initializing Game\n",
    "player_lst = list(players.keys())\n",
    "current_round = 0\n",
    "last_winning_bid = 0\n",
    "\n",
    "empty_log = np.zeros(total_rounds)\n",
    "\n",
    "wins = {string: 0 for string in player_lst}\n",
    "budgets = {string: total_budget for string in player_lst}\n",
    "bids = {string: 0 for string in player_lst}\n",
    "\n",
    "win_log = {string: np.zeros(total_rounds) for string in player_lst}\n",
    "bid_log = {string: np.zeros(total_rounds) for string in player_lst}\n"
   ]
  },
  {
   "cell_type": "code",
   "execution_count": 15,
   "id": "5c464057-a49d-4056-a269-0534f832bdbc",
   "metadata": {
    "tags": []
   },
   "outputs": [
    {
     "data": {
      "image/png": "[encoded data removed]",
      "text/plain": [
       "<Figure size 1000x1000 with 1 Axes>"
      ]
     },
     "metadata": {},
     "output_type": "display_data"
    },
    {
     "data": {
      "image/png": "[encoded data removed]",
      "text/plain": [
       "<Figure size 1000x1000 with 1 Axes>"
      ]
     },
     "metadata": {},
     "output_type": "display_data"
    },
    {
     "ename": "ValueError",
     "evalue": "setting an array element with a sequence. The requested array has an inhomogeneous shape after 1 dimensions. The detected shape was (6,) + inhomogeneous part.",
     "output_type": "error",
     "traceback": [
      "\u001b[0;31m---------------------------------------------------------------------------\u001b[0m",
      "\u001b[0;31mValueError\u001b[0m                                Traceback (most recent call last)",
      "Cell \u001b[0;32mIn[15], line 7\u001b[0m\n\u001b[1;32m      4\u001b[0m \u001b[38;5;28;01mfor\u001b[39;00m i \u001b[38;5;129;01min\u001b[39;00m np\u001b[38;5;241m.\u001b[39marange(total_rounds):\n\u001b[1;32m      6\u001b[0m     \u001b[38;5;28;01mfor\u001b[39;00m key, value \u001b[38;5;129;01min\u001b[39;00m players\u001b[38;5;241m.\u001b[39mitems():\n\u001b[0;32m----> 7\u001b[0m            bids[key] \u001b[38;5;241m=\u001b[39m \u001b[38;5;28mabs\u001b[39m(\u001b[43mplayers\u001b[49m\u001b[43m[\u001b[49m\u001b[43mkey\u001b[49m\u001b[43m]\u001b[49m\u001b[43m(\u001b[49m\u001b[43mtotal_rounds\u001b[49m\u001b[43m,\u001b[49m\u001b[43m \u001b[49m\u001b[43mtotal_budget\u001b[49m\u001b[43m,\u001b[49m\u001b[43m \u001b[49m\u001b[43mi\u001b[49m\u001b[43m,\u001b[49m\u001b[43mbudgets\u001b[49m\u001b[38;5;241;43m.\u001b[39;49m\u001b[43mget\u001b[49m\u001b[43m(\u001b[49m\u001b[43mkey\u001b[49m\u001b[43m)\u001b[49m\u001b[43m,\u001b[49m\u001b[43m \u001b[49m\u001b[38;5;28;43mlist\u001b[39;49m\u001b[43m(\u001b[49m\u001b[43mwin_log\u001b[49m\u001b[38;5;241;43m.\u001b[39;49m\u001b[43mget\u001b[49m\u001b[43m(\u001b[49m\u001b[43mkey\u001b[49m\u001b[43m)\u001b[49m\u001b[43m)\u001b[49m\u001b[43m,\u001b[49m\u001b[43m \u001b[49m\u001b[38;5;28;43mlist\u001b[39;49m\u001b[43m(\u001b[49m\u001b[43mbid_log\u001b[49m\u001b[38;5;241;43m.\u001b[39;49m\u001b[43mget\u001b[49m\u001b[43m(\u001b[49m\u001b[43mkey\u001b[49m\u001b[43m)\u001b[49m\u001b[43m)\u001b[49m\u001b[43m,\u001b[49m\u001b[43mlast_winning_bid\u001b[49m\u001b[43m,\u001b[49m\u001b[43m \u001b[49m\u001b[38;5;28;43mlist\u001b[39;49m\u001b[43m(\u001b[49m\u001b[43mbudgets\u001b[49m\u001b[38;5;241;43m.\u001b[39;49m\u001b[43mvalues\u001b[49m\u001b[43m(\u001b[49m\u001b[43m)\u001b[49m\u001b[43m)\u001b[49m\u001b[43m,\u001b[49m\u001b[38;5;28;43mlist\u001b[39;49m\u001b[43m(\u001b[49m\u001b[43mwin_log\u001b[49m\u001b[38;5;241;43m.\u001b[39;49m\u001b[43mvalues\u001b[49m\u001b[43m(\u001b[49m\u001b[43m)\u001b[49m\u001b[43m)\u001b[49m\u001b[43m,\u001b[49m\u001b[43m \u001b[49m\u001b[38;5;28;43mlist\u001b[39;49m\u001b[43m(\u001b[49m\u001b[43mbid_log\u001b[49m\u001b[38;5;241;43m.\u001b[39;49m\u001b[43mvalues\u001b[49m\u001b[43m(\u001b[49m\u001b[43m)\u001b[49m\u001b[43m)\u001b[49m\u001b[43m)\u001b[49m)\n\u001b[1;32m     10\u001b[0m     wins, last_winning_bid \u001b[38;5;241m=\u001b[39m find_winner(bids, wins, budgets) \n\u001b[1;32m     11\u001b[0m     bid_log, win_log \u001b[38;5;241m=\u001b[39m log_data(i, bid_log, win_log ,bids, wins)\n",
      "Cell \u001b[0;32mIn[4], line 4\u001b[0m, in \u001b[0;36mplayer_c\u001b[0;34m(total_rounds, total_budget, current_round, my_budget, my_wins, my_bids, last_winning_bid, budgets, win_log, bid_log)\u001b[0m\n\u001b[1;32m      1\u001b[0m \u001b[38;5;28;01mdef\u001b[39;00m \u001b[38;5;21mplayer_c\u001b[39m(total_rounds,total_budget ,current_round, my_budget, my_wins, my_bids, last_winning_bid, budgets, win_log, bid_log):\n\u001b[1;32m      2\u001b[0m     n_players \u001b[38;5;241m=\u001b[39m \u001b[38;5;28mlen\u001b[39m(win_log)\n\u001b[0;32m----> 4\u001b[0m     current_budget_of_all_teams \u001b[38;5;241m=\u001b[39m \u001b[43mnp\u001b[49m\u001b[38;5;241;43m.\u001b[39;49m\u001b[43msum\u001b[49m\u001b[43m(\u001b[49m\u001b[43mbudgets\u001b[49m\u001b[43m)\u001b[49m \u001b[38;5;241m-\u001b[39m my_budget\n\u001b[1;32m      6\u001b[0m     rounds_left \u001b[38;5;241m=\u001b[39m total_rounds \u001b[38;5;241m-\u001b[39m current_round\n\u001b[1;32m      7\u001b[0m     \u001b[38;5;28;01mif\u001b[39;00m rounds_left \u001b[38;5;241m==\u001b[39m \u001b[38;5;241m1\u001b[39m:\n",
      "File \u001b[0;32m/srv/conda3/envs/py3-general/lib/python3.9/site-packages/numpy/core/fromnumeric.py:2313\u001b[0m, in \u001b[0;36msum\u001b[0;34m(a, axis, dtype, out, keepdims, initial, where)\u001b[0m\n\u001b[1;32m   2310\u001b[0m         \u001b[38;5;28;01mreturn\u001b[39;00m out\n\u001b[1;32m   2311\u001b[0m     \u001b[38;5;28;01mreturn\u001b[39;00m res\n\u001b[0;32m-> 2313\u001b[0m \u001b[38;5;28;01mreturn\u001b[39;00m \u001b[43m_wrapreduction\u001b[49m\u001b[43m(\u001b[49m\u001b[43ma\u001b[49m\u001b[43m,\u001b[49m\u001b[43m \u001b[49m\u001b[43mnp\u001b[49m\u001b[38;5;241;43m.\u001b[39;49m\u001b[43madd\u001b[49m\u001b[43m,\u001b[49m\u001b[43m \u001b[49m\u001b[38;5;124;43m'\u001b[39;49m\u001b[38;5;124;43msum\u001b[39;49m\u001b[38;5;124;43m'\u001b[39;49m\u001b[43m,\u001b[49m\u001b[43m \u001b[49m\u001b[43maxis\u001b[49m\u001b[43m,\u001b[49m\u001b[43m \u001b[49m\u001b[43mdtype\u001b[49m\u001b[43m,\u001b[49m\u001b[43m \u001b[49m\u001b[43mout\u001b[49m\u001b[43m,\u001b[49m\u001b[43m \u001b[49m\u001b[43mkeepdims\u001b[49m\u001b[38;5;241;43m=\u001b[39;49m\u001b[43mkeepdims\u001b[49m\u001b[43m,\u001b[49m\n\u001b[1;32m   2314\u001b[0m \u001b[43m                      \u001b[49m\u001b[43minitial\u001b[49m\u001b[38;5;241;43m=\u001b[39;49m\u001b[43minitial\u001b[49m\u001b[43m,\u001b[49m\u001b[43m \u001b[49m\u001b[43mwhere\u001b[49m\u001b[38;5;241;43m=\u001b[39;49m\u001b[43mwhere\u001b[49m\u001b[43m)\u001b[49m\n",
      "File \u001b[0;32m/srv/conda3/envs/py3-general/lib/python3.9/site-packages/numpy/core/fromnumeric.py:88\u001b[0m, in \u001b[0;36m_wrapreduction\u001b[0;34m(obj, ufunc, method, axis, dtype, out, **kwargs)\u001b[0m\n\u001b[1;32m     85\u001b[0m         \u001b[38;5;28;01melse\u001b[39;00m:\n\u001b[1;32m     86\u001b[0m             \u001b[38;5;28;01mreturn\u001b[39;00m reduction(axis\u001b[38;5;241m=\u001b[39maxis, out\u001b[38;5;241m=\u001b[39mout, \u001b[38;5;241m*\u001b[39m\u001b[38;5;241m*\u001b[39mpasskwargs)\n\u001b[0;32m---> 88\u001b[0m \u001b[38;5;28;01mreturn\u001b[39;00m \u001b[43mufunc\u001b[49m\u001b[38;5;241;43m.\u001b[39;49m\u001b[43mreduce\u001b[49m\u001b[43m(\u001b[49m\u001b[43mobj\u001b[49m\u001b[43m,\u001b[49m\u001b[43m \u001b[49m\u001b[43maxis\u001b[49m\u001b[43m,\u001b[49m\u001b[43m \u001b[49m\u001b[43mdtype\u001b[49m\u001b[43m,\u001b[49m\u001b[43m \u001b[49m\u001b[43mout\u001b[49m\u001b[43m,\u001b[49m\u001b[43m \u001b[49m\u001b[38;5;241;43m*\u001b[39;49m\u001b[38;5;241;43m*\u001b[39;49m\u001b[43mpasskwargs\u001b[49m\u001b[43m)\u001b[49m\n",
      "\u001b[0;31mValueError\u001b[0m: setting an array element with a sequence. The requested array has an inhomogeneous shape after 1 dimensions. The detected shape was (6,) + inhomogeneous part."
     ]
    }
   ],
   "source": [
    "fig = plt.figure(figsize =(10,10))\n",
    "ax = fig.add_subplot() \n",
    "\n",
    "for i in np.arange(total_rounds):\n",
    "    \n",
    "    for key, value in players.items():\n",
    "           bids[key] = abs(players[key](total_rounds, total_budget, i,budgets.get(key), list(win_log.get(key)), list(bid_log.get(key)),last_winning_bid, list(budgets.values()),list(win_log.values()), list(bid_log.values())))\n",
    "    \n",
    "    \n",
    "    wins, last_winning_bid = find_winner(bids, wins, budgets) \n",
    "    bid_log, win_log = log_data(i, bid_log, win_log ,bids, wins)\n",
    "\n",
    "    plot_standings(wins)\n",
    "ds = save_data(bid_log, win_log)   \n",
    "print(wins)"
   ]
  },
  {
   "cell_type": "code",
   "execution_count": 16,
   "id": "111af04c-9d4c-4e95-b89c-9c3d6ac31433",
   "metadata": {},
   "outputs": [
    {
     "data": {
      "text/plain": [
       "{'Magma': 1000,\n",
       " 'Andresas_Hense': 1000,\n",
       " 'Der_Katzenfänger': 960,\n",
       " 'Katzen_dingens': 980.0,\n",
       " 'Whiskas': array([977.]),\n",
       " 'Klimwandel': 1000}"
      ]
     },
     "execution_count": 16,
     "metadata": {},
     "output_type": "execute_result"
    }
   ],
   "source": [
    "budgets"
   ]
  },
  {
   "cell_type": "code",
   "execution_count": null,
   "id": "949582b1-fbde-4ce3-9571-560034631b89",
   "metadata": {},
   "outputs": [],
   "source": []
  }
 ],
 "metadata": {
  "kernelspec": {
   "display_name": "py3-general [conda env:py3-general]",
   "language": "python",
   "name": "conda-env-py3-general-py"
  },
  "language_info": {
   "codemirror_mode": {
    "name": "ipython",
    "version": 3
   },
   "file_extension": ".py",
   "mimetype": "text/x-python",
   "name": "python",
   "nbconvert_exporter": "python",
   "pygments_lexer": "ipython3",
   "version": "3.9.18"
  },
  "widgets": {
   "application/vnd.jupyter.widget-state+json": {
    "state": {},
    "version_major": 2,
    "version_minor": 0
   }
  }
 },
 "nbformat": 4,
 "nbformat_minor": 5
}
